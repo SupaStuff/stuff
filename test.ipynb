{
 "cells": [
  {
   "cell_type": "code",
   "execution_count": 3,
   "metadata": {
    "collapsed": false,
    "scrolled": true
   },
   "outputs": [
    {
     "name": "stdout",
     "output_type": "stream",
     "text": [
      "username:SupaStuff\n"
     ]
    }
   ],
   "source": [
    "username=\"nobody\"\n",
    "with open(\".git/config\") as f:\n",
    "    origin=False\n",
    "    for line in f:\n",
    "        if \"[\" in line:\n",
    "            if \"origin\" in line:\n",
    "                origin=True\n",
    "            else:\n",
    "                origin=False\n",
    "        if origin and \"url\" in line:\n",
    "            username=line.split(\"/\")[-2]\n",
    "print(username)"
   ]
  }
 ],
 "metadata": {
  "anaconda-cloud": {},
  "kernelspec": {
   "display_name": "Python [Root]",
   "language": "python",
   "name": "Python [Root]"
  },
  "language_info": {
   "codemirror_mode": {
    "name": "ipython",
    "version": 3
   },
   "file_extension": ".py",
   "mimetype": "text/x-python",
   "name": "python",
   "nbconvert_exporter": "python",
   "pygments_lexer": "ipython3",
   "version": "3.5.2"
  }
 },
 "nbformat": 4,
 "nbformat_minor": 0
}
